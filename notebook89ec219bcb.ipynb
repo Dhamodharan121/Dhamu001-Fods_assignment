{
  "metadata": {
    "kernelspec": {
      "language": "python",
      "display_name": "Python 3",
      "name": "python3"
    },
    "language_info": {
      "name": "python",
      "version": "3.10.13",
      "mimetype": "text/x-python",
      "codemirror_mode": {
        "name": "ipython",
        "version": 3
      },
      "pygments_lexer": "ipython3",
      "nbconvert_exporter": "python",
      "file_extension": ".py"
    },
    "kaggle": {
      "accelerator": "none",
      "dataSources": [
        {
          "sourceId": 9016039,
          "sourceType": "datasetVersion",
          "datasetId": 5432616
        }
      ],
      "dockerImageVersionId": 30746,
      "isInternetEnabled": false,
      "language": "python",
      "sourceType": "notebook",
      "isGpuEnabled": false
    },
    "colab": {
      "name": "notebook89ec219bcb",
      "provenance": [],
      "include_colab_link": true
    }
  },
  "nbformat_minor": 0,
  "nbformat": 4,
  "cells": [
    {
      "cell_type": "markdown",
      "metadata": {
        "id": "view-in-github",
        "colab_type": "text"
      },
      "source": [
        "<a href=\"https://colab.research.google.com/github/Dhamodharan121/Dhamu001-Fods_assignment/blob/main/notebook89ec219bcb.ipynb\" target=\"_parent\"><img src=\"https://colab.research.google.com/assets/colab-badge.svg\" alt=\"Open In Colab\"/></a>"
      ]
    },
    {
      "source": [
        "\n",
        "# IMPORTANT: RUN THIS CELL IN ORDER TO IMPORT YOUR KAGGLE DATA SOURCES\n",
        "# TO THE CORRECT LOCATION (/kaggle/input) IN YOUR NOTEBOOK,\n",
        "# THEN FEEL FREE TO DELETE THIS CELL.\n",
        "# NOTE: THIS NOTEBOOK ENVIRONMENT DIFFERS FROM KAGGLE'S PYTHON\n",
        "# ENVIRONMENT SO THERE MAY BE MISSING LIBRARIES USED BY YOUR\n",
        "# NOTEBOOK.\n",
        "\n",
        "import os\n",
        "import sys\n",
        "from tempfile import NamedTemporaryFile\n",
        "from urllib.request import urlopen\n",
        "from urllib.parse import unquote, urlparse\n",
        "from urllib.error import HTTPError\n",
        "from zipfile import ZipFile\n",
        "import tarfile\n",
        "import shutil\n",
        "\n",
        "CHUNK_SIZE = 40960\n",
        "DATA_SOURCE_MAPPING = 'death-rates-united-states:https%3A%2F%2Fstorage.googleapis.com%2Fkaggle-data-sets%2F5432616%2F9016039%2Fbundle%2Farchive.zip%3FX-Goog-Algorithm%3DGOOG4-RSA-SHA256%26X-Goog-Credential%3Dgcp-kaggle-com%2540kaggle-161607.iam.gserviceaccount.com%252F20240726%252Fauto%252Fstorage%252Fgoog4_request%26X-Goog-Date%3D20240726T184449Z%26X-Goog-Expires%3D259200%26X-Goog-SignedHeaders%3Dhost%26X-Goog-Signature%3D964d6a29318975bc064c0fe6a2c8381f2c4bafd407deddcbd282a1ee1b9e5a66d86a82e5fa50094728ac26f6b10c65f6bd9808d69fcbc082032a053619bf7eebd8f58212b0c8d38050b3ca2b48c139dd5e337dccbcb017b87dba9c4e5ac34b03214ca92749f9e250779cdf4ef4043bcd477be6d6127b61ae9bb66fa025f9a53a870dacdc35d09db9577f382ed831b8be58b183d4c7edc1f7c617f8b9eadbd98fcf3e0b8d89847c012879530d26cbc93384bbdf1fecbc798696b2be66962c0a52d462ed52bcf46e3eaba480b1933d3f66b3a9f011147cfa80ef421c77165f4ea179570d3dd2fdf3017dc4d87e5bc7a38a54e916d2140cbe2105fb8b6e9549f87a'\n",
        "\n",
        "KAGGLE_INPUT_PATH='/kaggle/input'\n",
        "KAGGLE_WORKING_PATH='/kaggle/working'\n",
        "KAGGLE_SYMLINK='kaggle'\n",
        "\n",
        "!umount /kaggle/input/ 2> /dev/null\n",
        "shutil.rmtree('/kaggle/input', ignore_errors=True)\n",
        "os.makedirs(KAGGLE_INPUT_PATH, 0o777, exist_ok=True)\n",
        "os.makedirs(KAGGLE_WORKING_PATH, 0o777, exist_ok=True)\n",
        "\n",
        "try:\n",
        "  os.symlink(KAGGLE_INPUT_PATH, os.path.join(\"..\", 'input'), target_is_directory=True)\n",
        "except FileExistsError:\n",
        "  pass\n",
        "try:\n",
        "  os.symlink(KAGGLE_WORKING_PATH, os.path.join(\"..\", 'working'), target_is_directory=True)\n",
        "except FileExistsError:\n",
        "  pass\n",
        "\n",
        "for data_source_mapping in DATA_SOURCE_MAPPING.split(','):\n",
        "    directory, download_url_encoded = data_source_mapping.split(':')\n",
        "    download_url = unquote(download_url_encoded)\n",
        "    filename = urlparse(download_url).path\n",
        "    destination_path = os.path.join(KAGGLE_INPUT_PATH, directory)\n",
        "    try:\n",
        "        with urlopen(download_url) as fileres, NamedTemporaryFile() as tfile:\n",
        "            total_length = fileres.headers['content-length']\n",
        "            print(f'Downloading {directory}, {total_length} bytes compressed')\n",
        "            dl = 0\n",
        "            data = fileres.read(CHUNK_SIZE)\n",
        "            while len(data) > 0:\n",
        "                dl += len(data)\n",
        "                tfile.write(data)\n",
        "                done = int(50 * dl / int(total_length))\n",
        "                sys.stdout.write(f\"\\r[{'=' * done}{' ' * (50-done)}] {dl} bytes downloaded\")\n",
        "                sys.stdout.flush()\n",
        "                data = fileres.read(CHUNK_SIZE)\n",
        "            if filename.endswith('.zip'):\n",
        "              with ZipFile(tfile) as zfile:\n",
        "                zfile.extractall(destination_path)\n",
        "            else:\n",
        "              with tarfile.open(tfile.name) as tarfile:\n",
        "                tarfile.extractall(destination_path)\n",
        "            print(f'\\nDownloaded and uncompressed: {directory}')\n",
        "    except HTTPError as e:\n",
        "        print(f'Failed to load (likely expired) {download_url} to path {destination_path}')\n",
        "        continue\n",
        "    except OSError as e:\n",
        "        print(f'Failed to load {download_url} to path {destination_path}')\n",
        "        continue\n",
        "\n",
        "print('Data source import complete.')\n"
      ],
      "metadata": {
        "id": "8hJmdJAtXBUt",
        "outputId": "19994aa0-bffd-403c-d409-a170383895c0",
        "colab": {
          "base_uri": "https://localhost:8080/"
        }
      },
      "cell_type": "code",
      "outputs": [
        {
          "output_type": "stream",
          "name": "stdout",
          "text": [
            "Downloading death-rates-united-states, 87422 bytes compressed\n",
            "[==================================================] 87422 bytes downloaded\n",
            "Downloaded and uncompressed: death-rates-united-states\n",
            "Data source import complete.\n"
          ]
        }
      ],
      "execution_count": 3
    },
    {
      "cell_type": "code",
      "source": [
        "# This Python 3 environment comes with many helpful analytics libraries installed\n",
        "# It is defined by the kaggle/python Docker image: https://github.com/kaggle/docker-python\n",
        "# For example, here's several helpful packages to load\n",
        "\n",
        "import numpy as np # linear algebra\n",
        "import pandas as pd # data processing, CSV file I/O (e.g. pd.read_csv)\n",
        "\n",
        "# Input data files are available in the read-only \"../input/\" directory\n",
        "# For example, running this (by clicking run or pressing Shift+Enter) will list all files under the input directory\n",
        "\n",
        "import os\n",
        "for dirname, _, filenames in os.walk('/kaggle/input'):\n",
        "    for filename in filenames:\n",
        "        print(os.path.join(dirname, filename))\n",
        "\n",
        "# You can write up to 20GB to the current directory (/kaggle/working/) that gets preserved as output when you create a version using \"Save & Run All\"\n",
        "# You can also write temporary files to /kaggle/temp/, but they won't be saved outside of the current session"
      ],
      "metadata": {
        "_uuid": "8f2839f25d086af736a60e9eeb907d3b93b6e0e5",
        "_cell_guid": "b1076dfc-b9ad-4769-8c92-a6c4dae69d19",
        "execution": {
          "iopub.status.busy": "2024-07-26T18:35:25.00831Z",
          "iopub.execute_input": "2024-07-26T18:35:25.008828Z",
          "iopub.status.idle": "2024-07-26T18:35:25.022512Z",
          "shell.execute_reply.started": "2024-07-26T18:35:25.008786Z",
          "shell.execute_reply": "2024-07-26T18:35:25.021014Z"
        },
        "trusted": true,
        "id": "s4pevjTrXBUw",
        "outputId": "d26bd918-e72b-4a8a-91f7-93f71222d4b2",
        "colab": {
          "base_uri": "https://localhost:8080/"
        }
      },
      "execution_count": 4,
      "outputs": [
        {
          "output_type": "stream",
          "name": "stdout",
          "text": [
            "/kaggle/input/death-rates-united-states/Death_rates_for_suicide__by_sex__race__Hispanic_origin__and_age__United_States.csv\n",
            "/kaggle/input/death-rates-united-states/Death_rates.csv\n"
          ]
        }
      ]
    },
    {
      "cell_type": "code",
      "source": [
        "import pandas as pd\n",
        "import numpy as np\n",
        "import matplotlib.pyplot as plt"
      ],
      "metadata": {
        "execution": {
          "iopub.status.busy": "2024-07-26T18:35:25.024856Z",
          "iopub.execute_input": "2024-07-26T18:35:25.025351Z",
          "iopub.status.idle": "2024-07-26T18:35:25.032249Z",
          "shell.execute_reply.started": "2024-07-26T18:35:25.025305Z",
          "shell.execute_reply": "2024-07-26T18:35:25.03086Z"
        },
        "trusted": true,
        "id": "iR3dr7P0XBUx"
      },
      "execution_count": 5,
      "outputs": []
    },
    {
      "cell_type": "code",
      "source": [
        "data = pd.read_csv('/kaggle/input/death-rates-united-states/Death_rates_for_suicide__by_sex__race__Hispanic_origin__and_age__United_States.csv')\n",
        "print(data.head())"
      ],
      "metadata": {
        "execution": {
          "iopub.status.busy": "2024-07-26T18:35:25.033826Z",
          "iopub.execute_input": "2024-07-26T18:35:25.03438Z",
          "iopub.status.idle": "2024-07-26T18:35:25.075696Z",
          "shell.execute_reply.started": "2024-07-26T18:35:25.03434Z",
          "shell.execute_reply": "2024-07-26T18:35:25.074319Z"
        },
        "trusted": true,
        "id": "T9v8qzGIXBUy",
        "outputId": "d198472b-c75c-47bd-b5b2-b7a687ac1c39",
        "colab": {
          "base_uri": "https://localhost:8080/"
        }
      },
      "execution_count": 6,
      "outputs": [
        {
          "output_type": "stream",
          "name": "stdout",
          "text": [
            "                 INDICATOR                                               UNIT  \\\n",
            "0  Death rates for suicide  Deaths per 100,000 resident population, age-ad...   \n",
            "1  Death rates for suicide  Deaths per 100,000 resident population, age-ad...   \n",
            "2  Death rates for suicide  Deaths per 100,000 resident population, age-ad...   \n",
            "3  Death rates for suicide  Deaths per 100,000 resident population, age-ad...   \n",
            "4  Death rates for suicide  Deaths per 100,000 resident population, age-ad...   \n",
            "\n",
            "   UNIT_NUM STUB_NAME  STUB_NAME_NUM   STUB_LABEL  STUB_LABEL_NUM  YEAR  \\\n",
            "0         1     Total              0  All persons             0.0  1950   \n",
            "1         1     Total              0  All persons             0.0  1960   \n",
            "2         1     Total              0  All persons             0.0  1970   \n",
            "3         1     Total              0  All persons             0.0  1980   \n",
            "4         1     Total              0  All persons             0.0  1981   \n",
            "\n",
            "   YEAR_NUM       AGE  AGE_NUM  ESTIMATE  \n",
            "0         1  All ages      0.0      13.2  \n",
            "1         2  All ages      0.0      12.5  \n",
            "2         3  All ages      0.0      13.1  \n",
            "3         4  All ages      0.0      12.2  \n",
            "4         5  All ages      0.0      12.3  \n"
          ]
        }
      ]
    },
    {
      "cell_type": "code",
      "source": [
        "#identify the features\n",
        "features = data.columns\n",
        "print(features)"
      ],
      "metadata": {
        "execution": {
          "iopub.status.busy": "2024-07-26T18:35:25.077938Z",
          "iopub.execute_input": "2024-07-26T18:35:25.078411Z",
          "iopub.status.idle": "2024-07-26T18:35:25.085327Z",
          "shell.execute_reply.started": "2024-07-26T18:35:25.078369Z",
          "shell.execute_reply": "2024-07-26T18:35:25.083983Z"
        },
        "trusted": true,
        "id": "9mqDr4N0XBUz",
        "outputId": "e320bb8e-f961-45e8-a20c-1e125b5effe2",
        "colab": {
          "base_uri": "https://localhost:8080/"
        }
      },
      "execution_count": 7,
      "outputs": [
        {
          "output_type": "stream",
          "name": "stdout",
          "text": [
            "Index(['INDICATOR', 'UNIT', 'UNIT_NUM', 'STUB_NAME', 'STUB_NAME_NUM',\n",
            "       'STUB_LABEL', 'STUB_LABEL_NUM', 'YEAR', 'YEAR_NUM', 'AGE', 'AGE_NUM',\n",
            "       'ESTIMATE'],\n",
            "      dtype='object')\n"
          ]
        }
      ]
    },
    {
      "cell_type": "code",
      "source": [
        "#identify the data types\n",
        "data_types = data.dtypes\n",
        "print(data_types)"
      ],
      "metadata": {
        "execution": {
          "iopub.status.busy": "2024-07-26T18:35:25.087143Z",
          "iopub.execute_input": "2024-07-26T18:35:25.087667Z",
          "iopub.status.idle": "2024-07-26T18:35:25.098937Z",
          "shell.execute_reply.started": "2024-07-26T18:35:25.087618Z",
          "shell.execute_reply": "2024-07-26T18:35:25.097513Z"
        },
        "trusted": true,
        "id": "VQo_SUBQXBUz",
        "outputId": "25e963f5-4723-4331-aecd-281475f8d50a",
        "colab": {
          "base_uri": "https://localhost:8080/"
        }
      },
      "execution_count": 8,
      "outputs": [
        {
          "output_type": "stream",
          "name": "stdout",
          "text": [
            "INDICATOR          object\n",
            "UNIT               object\n",
            "UNIT_NUM            int64\n",
            "STUB_NAME          object\n",
            "STUB_NAME_NUM       int64\n",
            "STUB_LABEL         object\n",
            "STUB_LABEL_NUM    float64\n",
            "YEAR                int64\n",
            "YEAR_NUM            int64\n",
            "AGE                object\n",
            "AGE_NUM           float64\n",
            "ESTIMATE          float64\n",
            "dtype: object\n"
          ]
        }
      ]
    },
    {
      "cell_type": "code",
      "source": [
        "#summary\n",
        "summary = data.describe()\n",
        "print(summary)"
      ],
      "metadata": {
        "execution": {
          "iopub.status.busy": "2024-07-26T18:35:25.100544Z",
          "iopub.execute_input": "2024-07-26T18:35:25.100926Z",
          "iopub.status.idle": "2024-07-26T18:35:25.134776Z",
          "shell.execute_reply.started": "2024-07-26T18:35:25.100891Z",
          "shell.execute_reply": "2024-07-26T18:35:25.133271Z"
        },
        "trusted": true,
        "id": "muZjm5btXBU0",
        "outputId": "65ef6729-4fff-4ee1-b11f-0cd801431cb2",
        "colab": {
          "base_uri": "https://localhost:8080/"
        }
      },
      "execution_count": 9,
      "outputs": [
        {
          "output_type": "stream",
          "name": "stdout",
          "text": [
            "          UNIT_NUM  STUB_NAME_NUM  STUB_LABEL_NUM         YEAR     YEAR_NUM  \\\n",
            "count  6390.000000    6390.000000     6390.000000  6390.000000  6390.000000   \n",
            "mean      1.872926       4.621909        4.686775  1997.525822    22.692019   \n",
            "std       0.333081       2.031777        1.829624    14.937451    12.286033   \n",
            "min       1.000000       0.000000        0.000000  1950.000000     1.000000   \n",
            "25%       2.000000       3.000000        3.230000  1988.000000    12.000000   \n",
            "50%       2.000000       5.000000        5.125100  1999.000000    23.000000   \n",
            "75%       2.000000       6.000000        6.153000  2009.000000    33.000000   \n",
            "max       2.000000      11.000000        7.235000  2018.000000    42.000000   \n",
            "\n",
            "           AGE_NUM     ESTIMATE  \n",
            "count  6390.000000  5484.000000  \n",
            "mean      2.712207    13.709810  \n",
            "std       1.932280    11.531805  \n",
            "min       0.000000     0.300000  \n",
            "25%       0.000000     5.000000  \n",
            "50%       3.000000    10.500000  \n",
            "75%       4.100000    19.500000  \n",
            "max       6.000000    74.800000  \n"
          ]
        }
      ]
    },
    {
      "cell_type": "code",
      "source": [
        "print(\"THIS DATASET CONTAINS THE DEATH RATES IN UNITED STATES\")"
      ],
      "metadata": {
        "execution": {
          "iopub.status.busy": "2024-07-26T18:35:25.136437Z",
          "iopub.execute_input": "2024-07-26T18:35:25.136914Z",
          "iopub.status.idle": "2024-07-26T18:35:25.142701Z",
          "shell.execute_reply.started": "2024-07-26T18:35:25.136874Z",
          "shell.execute_reply": "2024-07-26T18:35:25.141403Z"
        },
        "trusted": true,
        "id": "jCgML1fsXBU0",
        "outputId": "9f6e60e6-85d3-47b4-8acc-5bb47e8e31e4",
        "colab": {
          "base_uri": "https://localhost:8080/"
        }
      },
      "execution_count": 10,
      "outputs": [
        {
          "output_type": "stream",
          "name": "stdout",
          "text": [
            "THIS DATASET CONTAINS THE DEATH RATES IN UNITED STATES\n"
          ]
        }
      ]
    }
  ]
}